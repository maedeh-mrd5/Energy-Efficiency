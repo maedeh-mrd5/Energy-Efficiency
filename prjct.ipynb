{
 "cells": [
  {
   "cell_type": "markdown",
   "id": "de82e752",
   "metadata": {},
   "source": [
    "# Energy Consumption Prediction"
   ]
  },
  {
   "cell_type": "markdown",
   "id": "d70fd8d7",
   "metadata": {},
   "source": [
    "## بخش 1: معرفی پروژه"
   ]
  },
  {
   "cell_type": "markdown",
   "id": "1b04edd3",
   "metadata": {},
   "source": [
    "هدف این پروژه، پیش‌بینی مصرف انرژی گرمایشی بر اساس ویژگی‌های فیزیکی ساختمان است."
   ]
  },
  {
   "cell_type": "markdown",
   "id": "2016e0c7",
   "metadata": {},
   "source": [
    "## بخش 2: بارگذاری و آشنایی با داده‌ها"
   ]
  },
  {
   "cell_type": "markdown",
   "id": "42bffd95",
   "metadata": {},
   "source": [
    "- df.info()\n",
    "- df.describe()"
   ]
  },
  {
   "cell_type": "markdown",
   "id": "6ffcb32b",
   "metadata": {},
   "source": [
    "## بخش 3: تحلیل و تجسم داده‌ها"
   ]
  },
  {
   "cell_type": "markdown",
   "id": "20f61dfe",
   "metadata": {},
   "source": [
    "- sns.pairplot\n",
    "- sns.heatmap"
   ]
  },
  {
   "cell_type": "markdown",
   "id": "1ae9eb8a",
   "metadata": {},
   "source": [
    "## بخش 4: ساخت مدل رگرسیون خطی"
   ]
  },
  {
   "cell_type": "markdown",
   "id": "3b7ed54d",
   "metadata": {},
   "source": [
    "- X, y\n",
    "- train_test_split\n",
    "- LinearRegression"
   ]
  },
  {
   "cell_type": "markdown",
   "id": "137e83f1",
   "metadata": {},
   "source": [
    "## بخش 5: ارزیابی مدل"
   ]
  },
  {
   "cell_type": "markdown",
   "id": "5a122a35",
   "metadata": {},
   "source": [
    "- MSE\n",
    "- R2"
   ]
  },
  {
   "cell_type": "markdown",
   "id": "05efaa2f",
   "metadata": {},
   "source": [
    "## بخش 6: تحلیل ضرایب"
   ]
  },
  {
   "cell_type": "markdown",
   "id": "01063828",
   "metadata": {},
   "source": [
    "- model.coef_"
   ]
  },
  {
   "cell_type": "markdown",
   "id": "2cb43e19",
   "metadata": {},
   "source": [
    "## بخش 7: تجسم خروجی مدل"
   ]
  },
  {
   "cell_type": "markdown",
   "id": "1128385c",
   "metadata": {},
   "source": [
    "- plt.scatter(y_test, y_pred)"
   ]
  },
  {
   "cell_type": "markdown",
   "id": "b238d9c1",
   "metadata": {},
   "source": [
    "📦 مرحله 1: آشنایی با دیتاست\n",
    "\n",
    "    دیتاست را بارگذاری کنند (xlsx)\n",
    "\n",
    "    ستون‌ها را بشناسن، بدونن Target کدومه\n",
    "\n",
    "    با df.info() و df.describe() تحلیل ابتدایی بکنن\n",
    "\n",
    "✅ وظیفه: بنویسن کدوم فیچرها به نظرشون روی مصرف انرژی تأثیرگذارن و چرا؟\n",
    "📊 مرحله 2: تحلیل و تجسم داده‌ها (EDA)\n",
    "\n",
    "    رسم نمودارهای scatter بین ویژگی‌ها و مصرف انرژی\n",
    "\n",
    "    رسم heatmap از correlation بین فیچرها\n",
    "\n",
    "✅ وظیفه: ۲ فیچر مهم انتخاب کنن و با نمودار نشون بدن چطور با target رابطه دارن.\n",
    "🛠️ مرحله 3: مدل‌سازی با رگرسیون خطی\n",
    "\n",
    "    دیتاست رو به X و y تقسیم کنن\n",
    "\n",
    "    از train_test_split استفاده کنن\n",
    "\n",
    "    از LinearRegression در sklearn استفاده کنن\n",
    "\n",
    "✅ وظیفه: مدل بسازن و R² و MSE را گزارش بدن.\n",
    "📈 مرحله 4: تفسیر ضرایب\n",
    "\n",
    "    از model.coef_ استفاده کنن\n",
    "\n",
    "    ضرایب رو تحلیل کنن: کدوم ویژگی تاثیر مثبت داره؟ کدوم منفی؟\n",
    "\n",
    "✅ وظیفه: جدولی از ضرایب و تحلیل متناظر با اون‌ها بنویسن.\n",
    "📊 مرحله 5: تجسم خروجی مدل\n",
    "\n",
    "    نمودار y_test vs y_pred بسازن\n",
    "\n",
    "    نمودار خطای پیش‌بینی (residuals)\n",
    "\n",
    "\n",
    "\n",
    "\n"
   ]
  }
 ],
 "metadata": {
  "kernelspec": {
   "display_name": "Python 3",
   "language": "python",
   "name": "python3"
  },
  "language_info": {
   "codemirror_mode": {
    "name": "ipython",
    "version": 3
   },
   "file_extension": ".py",
   "mimetype": "text/x-python",
   "name": "python",
   "nbconvert_exporter": "python",
   "pygments_lexer": "ipython3",
   "version": "3.12.10"
  }
 },
 "nbformat": 4,
 "nbformat_minor": 5
}
